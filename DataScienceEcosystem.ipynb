{
 "cells": [
  {
   "cell_type": "markdown",
   "id": "f763405e-723a-4e5f-ae5e-d040ed6e77fa",
   "metadata": {},
   "source": [
    "# DataScienceEcosystem"
   ]
  },
  {
   "cell_type": "markdown",
   "id": "a3f8907d-e5cd-419c-a8aa-914e1c298f6e",
   "metadata": {},
   "source": [
    "In this notebook, Data Science Tools and Ecosystem are summarized."
   ]
  },
  {
   "cell_type": "markdown",
   "id": "83b38c77-a954-4945-866b-2bef646904f9",
   "metadata": {
    "tags": []
   },
   "source": [
    "Some of the popular languages that Data Scientists use are:\n",
    "1. Python \n",
    "2. R \n",
    "3. Java "
   ]
  },
  {
   "cell_type": "markdown",
   "id": "505915b0-cf42-49eb-b5a2-7f4e8dc82f57",
   "metadata": {},
   "source": [
    "Some of the commonly used libraries used by Data Scientists include:\n",
    "1. Pandas\n",
    "2. NumPy\n",
    "3. PyTorch"
   ]
  },
  {
   "cell_type": "markdown",
   "id": "b80389d7-e41c-48e7-b4ca-2e211b211377",
   "metadata": {},
   "source": [
    "|Data Science tools|\n",
    "| ------------- |\n",
    "|TenserFlow     | \n",
    "|ApacheSpark    | \n",
    "|Hadoop         | "
   ]
  },
  {
   "cell_type": "markdown",
   "id": "1744fddc-c407-4175-bf1e-1f96a8adaa2d",
   "metadata": {},
   "source": [
    "### Below are a few examples of evaluating arithmetic expressions in Python."
   ]
  },
  {
   "cell_type": "markdown",
   "id": "3258129b-c714-4eb7-8cc4-016730225d76",
   "metadata": {},
   "source": [
    "$$\\sin^2 + \\cos^2 = 1$$"
   ]
  },
  {
   "cell_type": "markdown",
   "id": "235ef5e3-63d7-4260-adb4-8fcbb86259bd",
   "metadata": {},
   "source": [
    " This a simple arithmetic expression to mutiply then add integers    "
   ]
  },
  {
   "cell_type": "code",
   "execution_count": 2,
   "id": "ed658747-e5e2-48ee-9ac2-6473394ff0a3",
   "metadata": {
    "tags": []
   },
   "outputs": [
    {
     "data": {
      "text/plain": [
       "17"
      ]
     },
     "execution_count": 2,
     "metadata": {},
     "output_type": "execute_result"
    }
   ],
   "source": [
    "(3*4)+5"
   ]
  },
  {
   "cell_type": "code",
   "execution_count": 6,
   "id": "c0e1e56d-190d-446b-8b32-fcf204638676",
   "metadata": {},
   "outputs": [
    {
     "data": {
      "text/plain": [
       "3.3333333333333335"
      ]
     },
     "execution_count": 6,
     "metadata": {},
     "output_type": "execute_result"
    }
   ],
   "source": [
    "##This will convert 200 minutes to hours by diving by 60\n",
    "200/60"
   ]
  },
  {
   "cell_type": "markdown",
   "id": "520bc97d-90d8-4372-a200-9f0e2e63d5b2",
   "metadata": {},
   "source": [
    "**Objectives:**\n",
    "* Arithmatic expressions \n",
    "* Markdown Cells \n",
    "* Writing in Bold  \n",
    "* Tables\n",
    "* Codes and doing math \n"
   ]
  },
  {
   "cell_type": "markdown",
   "id": "77493397-087e-422b-8c5f-c70fa267ba40",
   "metadata": {},
   "source": [
    "## Author\n",
    "Younes Sherkat"
   ]
  },
  {
   "cell_type": "code",
   "execution_count": null,
   "id": "65880303-7a48-4387-9b7f-f42ba09283d8",
   "metadata": {},
   "outputs": [],
   "source": []
  }
 ],
 "metadata": {
  "kernelspec": {
   "display_name": "Python",
   "language": "python",
   "name": "conda-env-python-py"
  },
  "language_info": {
   "codemirror_mode": {
    "name": "ipython",
    "version": 3
   },
   "file_extension": ".py",
   "mimetype": "text/x-python",
   "name": "python",
   "nbconvert_exporter": "python",
   "pygments_lexer": "ipython3",
   "version": "3.7.12"
  }
 },
 "nbformat": 4,
 "nbformat_minor": 5
}
